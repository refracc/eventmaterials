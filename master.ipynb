{
 "cells": [
  {
   "cell_type": "markdown",
   "id": "9cb76429",
   "metadata": {},
   "source": [
    "# Solving The Travelling Salesperson Problem (TSP)\n",
    "\n",
    "\n",
    "\"A salesperson has to visit a number of addresses, they must visit each address once and once only. How do we find the sortest route for the salesperson?\"\n",
    "\n",
    "There are lots of everyday problems based on the TSP such as home deliveries, so being able to solve the TSP is very useful.\n",
    "\n",
    "This workshop will explain a number of ways in which we can solve the TSP.  \n",
    "\n",
    "We'll be using the Python language to help us.\n",
    "\n",
    "The workshop is divided into cells (like this one), some of the cells are just for reading (like this) and some have some Python code in them (like the one below). When you've finished reading this, press the \"run\" button (at the top) and we'll move onto the next cell, press the run button again to run the Python code in the next cell."
   ]
  },
  {
   "cell_type": "code",
   "execution_count": null,
   "id": "38d8bf5a",
   "metadata": {},
   "outputs": [],
   "source": [
    "import tspcode as tsp\n",
    "tsp.setup()"
   ]
  },
  {
   "cell_type": "markdown",
   "id": "0b9d8441",
   "metadata": {},
   "source": [
    "Don't worry about the code in the cell above, it is setting up a problem for us to solve."
   ]
  },
  {
   "cell_type": "markdown",
   "id": "0b1a3388",
   "metadata": {},
   "source": [
    "## 1. A Problem for Us to Solve\n",
    "\n",
    "In the center of Edinburgh we need to make 26 deliveries (A-Z), we start and finish from Edinburgh Castle. We want to make the deliveries travelling the shortest distance possible.\n",
    "\n",
    "\n",
    "## Task: can you re-arrange the route to make it shorter?\n",
    "##  What's the shortest route that you can find?\n",
    "\n",
    "The cell below creates a route from A-Z via each delivery in order, then it prints out the distance of the route, change the order of the visits to see if you can make the route shorter. The cell underneath draws a map of the route which you might find useful"
   ]
  },
  {
   "cell_type": "code",
   "execution_count": null,
   "id": "2e203491",
   "metadata": {
    "scrolled": true
   },
   "outputs": [],
   "source": [
    "route = 'ABCDEFGHIJKLMNOPQRSTUVWXYZ'\n",
    "length = tsp.measure (route)\n",
    "print(length)"
   ]
  },
  {
   "cell_type": "code",
   "execution_count": null,
   "id": "feca219e",
   "metadata": {
    "scrolled": true
   },
   "outputs": [],
   "source": [
    "tsp.drawMap(route)"
   ]
  },
  {
   "cell_type": "markdown",
   "id": "d567921e",
   "metadata": {},
   "source": [
    "The problem that we have is that there are far too many possible routes for us to try each one. \n",
    "\n",
    "How many routes are there?\n",
    "\n",
    "If there were 4 visits A-D then the possible routes would be :\n",
    "\n",
    "|   |  |\n",
    "|--------|------|\n",
    "| ABCD   | ABDC |\n",
    "| ACDB   | ACBD |\n",
    "| ADBC   | ADCB |\n",
    "| BACD   | BADC |\n",
    "| BCAD   | BCDA |\n",
    "| BDAC   | BDCA |\n",
    "| CABD   | CADB |\n",
    "| CBAD   | CBDA |\n",
    "| CDAB   | CDBA |\n",
    "| DABC   | DACB |\n",
    "| DBAC   | DBCA |\n",
    "| DCAB   | DCBA |\n",
    "| ABCD   | ABDC |\n",
    "| ACDB   | ACBD |\n",
    "| ADBC   | ADCB |\n",
    "| BACD   | BADC |\n",
    "| BCAD   | BCDA |\n",
    "| BDAC   | BDCA |\n",
    "| CABD   | CADB |\n",
    "| CBAD   | CBDA |\n",
    "| CDAB   | CDBA |\n",
    "| DABC   | DACB |\n",
    "| DBAC   | DBCA |\n",
    "| DCAB   | DCBA |\n",
    "\n",
    "The number of possible routes (24) can be worked out by 4x3x2x1 = 24\n",
    "\n",
    "For our problem with 26 visits there would be: 40329146112660570000000000 routes for us to check !!!\n",
    "\n",
    "\n",
    "That's too many routes for us to check each one, and it would take the computer several hours to work through them."
   ]
  },
  {
   "cell_type": "markdown",
   "id": "49ff5126",
   "metadata": {},
   "source": [
    "##  2. Building a route\n",
    "\n",
    "Rather than testing every single route, we can write a program to build a route using a simple rule called the nearest neighbour rule...\n",
    "\n",
    "*When deciding which visit to make next, always go to the closest visit available to you.*\n",
    "\n",
    "So, if we start at the Castle the nearest visit is 'R', then it is 'G' and so on.....\n",
    "\n",
    "You can run the program in cell below, it adds each visit to the route until there are no visits left to add.\n",
    "\n",
    "Does the nearest neighbour rule find a shorter route than your route?\n"
   ]
  },
  {
   "cell_type": "code",
   "execution_count": null,
   "id": "ad2d3b71",
   "metadata": {},
   "outputs": [],
   "source": [
    "solution = ''\n",
    "remaining = 'ABCDEFGHIJKLMNOPQRSTUVWXYZ'\n",
    "best =''\n",
    "\n",
    "while len(remaining) > 0:\n",
    "    print(remaining)\n",
    "    best, remaining = tsp.neighbour(best,remaining)\n",
    "    solution = solution +best\n",
    "\n",
    "\n",
    "print(solution)\n",
    "length = tsp.measure(solution)\n",
    "print(length)"
   ]
  },
  {
   "cell_type": "code",
   "execution_count": null,
   "id": "61abc973",
   "metadata": {},
   "outputs": [],
   "source": [
    "tsp.drawMap(solution)"
   ]
  },
  {
   "cell_type": "markdown",
   "id": "a5ba4544",
   "metadata": {},
   "source": [
    "## 3. A Simple hill climber.....\n",
    "\n",
    "The nearest neighbour rule let's us build a route quickly, but although it might be quite a good route, it's probably not the best.\n",
    "\n",
    "We're going to try and build a route with another type of program. This program uses a very simple type of *artificial inteligence*.\n",
    "\n",
    "The program does something very simple, it starts with a random route (A-Z) and measures it. Then it randomly changes the solution and measures the lenngth of the solution, if it is shorter (better) then it keeps the change otherwise it throws the change away and tries another random change.\n",
    "\n",
    "Although this is really a very simple thing to do, if you so it enough then you will start to find shorter routes."
   ]
  },
  {
   "cell_type": "markdown",
   "id": "eada9d60",
   "metadata": {},
   "source": [
    "The basic Python code for the hill climber is below, the comments should help you understand it.\n",
    "\n",
    "Try running it...."
   ]
  },
  {
   "cell_type": "code",
   "execution_count": null,
   "id": "1b318d9f",
   "metadata": {},
   "outputs": [],
   "source": [
    "tries = 100\n",
    "solution ='ABCDEFGHIJKLMNOPQRSTUVWXYZ' #The starting solutiom\n",
    "best = tsp.measure (solution)\n",
    "\n",
    "for x in range(0, tries):\n",
    "    old = solution #Take a copy of the solution\n",
    "    solution =  tsp.random_change_1(solution)#Make a random change\n",
    "    n = tsp.measure (solution)#Measure the length of the modified solution\n",
    "    if (n >= best): #If the modification has made the solution longer, or had no effect\n",
    "        solution = old #Remove the change\n",
    "    else:#If the modification has mde the solution shorter\n",
    "        print(str(x) + \" Found new best! \"+ str(n))\n",
    "        best = n\n",
    "\n",
    "\n",
    "length = tsp.measure(solution)\n",
    "print(\"My route is \" + str(length))"
   ]
  },
  {
   "cell_type": "markdown",
   "id": "43592705",
   "metadata": {},
   "source": [
    "Once you have run the hill climber think about how you could improve the quality of the solutions:\n",
    "* Increase the number of tries\n",
    "* The above example uses the function tsp.random_change_1() to modify the solutiom, there are 5 functions that can be used here (tsp.random_change1() to tsp.random_change_5() ) which make different types of random change\n",
    "\n",
    "Now try to find the lowest length of route possible, you will need to adjust the number of tries (hint: it should be > 100) and test each of the random change functions."
   ]
  },
  {
   "cell_type": "code",
   "execution_count": null,
   "id": "95196ff6",
   "metadata": {},
   "outputs": [],
   "source": [
    "tsp.drawMap(solution)"
   ]
  }
 ],
 "metadata": {
  "kernelspec": {
   "display_name": "Python 3 (ipykernel)",
   "language": "python",
   "name": "python3"
  },
  "language_info": {
   "codemirror_mode": {
    "name": "ipython",
    "version": 3
   },
   "file_extension": ".py",
   "mimetype": "text/x-python",
   "name": "python",
   "nbconvert_exporter": "python",
   "pygments_lexer": "ipython3",
   "version": "3.9.7"
  }
 },
 "nbformat": 4,
 "nbformat_minor": 5
}
