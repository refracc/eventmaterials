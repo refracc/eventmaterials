{
 "cells": [
  {
   "cell_type": "markdown",
   "id": "9cb76429",
   "metadata": {},
   "source": [
    "[![Binder](https://mybinder.org/badge_logo.svg)](https://mybinder.org/v2/gh/refracc/eventmaterials/HEAD)\n",
    "# Solving The Travelling Salesperson Problem (TSP)\n",
    "\n",
    "\n",
    "\"A salesperson has to visit a number of addresses, they must visit each address once and once only. How do we find the shortest route for the salesperson?\"\n",
    "\n",
    "There are lots of everyday problems based on the TSP such as home deliveries, so being able to solve the TSP is very useful.\n",
    "\n",
    "This workshop will explain a number of ways in which we can solve the TSP.  \n",
    "\n",
    "We'll be using the Python language to help us.\n",
    "\n",
    "The workshop is divided into cells (like this one), some cells are just for reading (like this) and some have some Python code in them (like the one below). When you've finished reading this, press the \"run\" button (at the top) and we'll move onto the next cell, press the run button again to run the Python code in the next cell."
   ]
  },
  {
   "cell_type": "code",
   "execution_count": null,
   "id": "38d8bf5a",
   "metadata": {},
   "outputs": [],
   "source": [
    "import tspcode as tsp\n",
    "tsp.setup()"
   ]
  },
  {
   "cell_type": "markdown",
   "id": "0b9d8441",
   "metadata": {},
   "source": [
    "Don't worry about the code in the cell above, it is setting up a problem for us to solve."
   ]
  },
  {
   "cell_type": "markdown",
   "id": "0b1a3388",
   "metadata": {},
   "source": [
    "## 1. A Problem to Solve\n",
    "\n",
    "In the center of Edinburgh we need to make 26 deliveries (A-Z), we start and finish from Edinburgh Castle. We want to make the deliveries travelling the shortest distance possible.\n",
    "\n",
    "The cell below creates a route from A-Z via each delivery in order, then it prints out the distance of the route, change the order of the visits to see if you can make the route shorter. The cell underneath draws a map of the route which you might find useful"
   ]
  },
  {
   "cell_type": "code",
   "execution_count": null,
   "id": "2e203491",
   "metadata": {
    "scrolled": true
   },
   "outputs": [],
   "source": [
    "route = 'ABCDEFGHIJKLMNOPQRSTUVWXYZ'\n",
    "length = tsp.measure(route)\n",
    "print(length)"
   ]
  },
  {
   "cell_type": "code",
   "execution_count": null,
   "id": "feca219e",
   "metadata": {
    "scrolled": true
   },
   "outputs": [],
   "source": [
    "tsp.draw_map(route)"
   ]
  },
  {
   "cell_type": "markdown",
   "id": "d567921e",
   "metadata": {},
   "source": [
    "The problem that we have is that there are far too many possible routes for us to try each one. \n",
    "\n",
    "How many routes are there?\n",
    "\n",
    "If there were 4 visits A-D then the possible routes would be :\n",
    "\n",
    "|   |  |\n",
    "|--------|------|\n",
    "| ABCD   | ABDC |\n",
    "| ACDB   | ACBD |\n",
    "| ADBC   | ADCB |\n",
    "| BACD   | BADC |\n",
    "| BCAD   | BCDA |\n",
    "| BDAC   | BDCA |\n",
    "| CABD   | CADB |\n",
    "| CBAD   | CBDA |\n",
    "| CDAB   | CDBA |\n",
    "| DABC   | DACB |\n",
    "| DBAC   | DBCA |\n",
    "| DCAB   | DCBA |\n",
    "| ABCD   | ABDC |\n",
    "| ACDB   | ACBD |\n",
    "| ADBC   | ADCB |\n",
    "| BACD   | BADC |\n",
    "| BCAD   | BCDA |\n",
    "| BDAC   | BDCA |\n",
    "| CABD   | CADB |\n",
    "| CBAD   | CBDA |\n",
    "| CDAB   | CDBA |\n",
    "| DABC   | DACB |\n",
    "| DBAC   | DBCA |\n",
    "| DCAB   | DCBA |\n",
    "\n",
    "The number of possible routes can be worked out as $4! = 4*3*2*1 = 24$\n",
    "\n",
    "For our problem with $26$ visits there would be $26! = 26 * 25 * 24 * 23 * ... * 3 * 2 * 1 = 40,329,146,112,660,570,000,000,000$ routes for us to check!\n",
    "\n",
    "That's too many routes for us to check each one, and it would take the computer $365.4$ trillion years to work through them."
   ]
  },
  {
   "cell_type": "markdown",
   "id": "49ff5126",
   "metadata": {},
   "source": [
    "##  2. Building a Route\n",
    "\n",
    "Rather than testing every single route, we can write a program to build a route using a simple rule called the nearest neighbour rule...\n",
    "\n",
    "*When deciding which visit to make next, always go to the closest visit available to you.*\n",
    "\n",
    "So, if we start at the Castle the nearest visit is $R$, then it is $G$ and so on.....\n",
    "\n",
    "You can run the program in cell below, it adds each visit to the route until there are no visits left to add.\n",
    "\n",
    "Does the nearest neighbour rule find a shorter route than your route?\n"
   ]
  },
  {
   "cell_type": "code",
   "execution_count": null,
   "id": "ad2d3b71",
   "metadata": {},
   "outputs": [],
   "source": [
    "# Initialise variables\n",
    "solution = '' # Accumulator for the best solution\n",
    "remaining = 'ABCDEFGHIJKLMNOPQRSTUVWXYZ' # Set of remaining locations to visit\n",
    "best = '' # Variable to store the current best locations\n",
    "\n",
    "# Main loop to find the solution\n",
    "while len(remaining) > 0:\n",
    "    print(remaining) # Display the remaining locations\n",
    "    best, remaining = tsp.neighbour(best, remaining) # Get the next best city and update the remaining locations\n",
    "    solution = solution + best # Add the best location to the solution\n",
    "\n",
    "# Display the final solution\n",
    "print(\"Final Solution:\", solution)\n",
    "\n",
    "# Measure the length of the solution\n",
    "length = tsp.measure(solution)\n",
    "print(\"Length of the Solution:\", length)"
   ]
  },
  {
   "cell_type": "code",
   "execution_count": null,
   "id": "61abc973",
   "metadata": {},
   "outputs": [],
   "source": [
    "tsp.draw_map(solution)"
   ]
  },
  {
   "cell_type": "markdown",
   "id": "a5ba4544",
   "metadata": {},
   "source": [
    "## 3. Hill Climbing\n",
    "\n",
    "The nearest neighbour rule lets us build a route quickly, but although it might be quite a good route, it's probably not the best.\n",
    "\n",
    "We're going to try and build a route with another type of program. This program uses a very simple type of *artificial intelligence*.\n",
    "\n",
    "The program does something very simple, it starts with a random route (using the letters A through Z) and measures it. Then it randomly changes the solution and measures the length of the solution, if the length of this route is shorter (better) then it keeps the change; otherwise it throws the change away and tries another random change.\n",
    "\n",
    "Although this is really a very simple thing to do, if you so it enough then you will start to find shorter routes."
   ]
  },
  {
   "cell_type": "markdown",
   "id": "eada9d60",
   "metadata": {},
   "source": [
    "The basic Python code for the hill climber is below, the comments should help you understand it. \n",
    "Try running it..."
   ]
  },
  {
   "cell_type": "code",
   "execution_count": null,
   "id": "1b318d9f",
   "metadata": {},
   "outputs": [],
   "source": [
    "# Set the number of attempts for the local search algorithm\n",
    "tries = 100\n",
    "\n",
    "# Define the initial solution as a string of letters from 'A' to 'Z'\n",
    "solution = 'ABCDEFGHIJKLMNOPQRSTUVWXYZ'\n",
    "\n",
    "# Measure the length of the initial solution\n",
    "best = tsp.measure(solution)\n",
    "\n",
    "# Iterate through a predefined number of attempts to improve the solution\n",
    "for x in range(0, tries):\n",
    "    # Copy the current solution for potential rollback\n",
    "    old = solution\n",
    "\n",
    "    # Make a random change to the current solution\n",
    "    solution = tsp.random_change_1(solution)\n",
    "\n",
    "    # Measure the length of the modified solution\n",
    "    n = tsp.measure(solution)\n",
    "\n",
    "    # Check if the modification has improved or had no effect on the solution\n",
    "    if n >= best:\n",
    "        # Revert the change if no improvement is observed\n",
    "        solution = old\n",
    "    else:\n",
    "        # Print a message if a new best solution is found\n",
    "        print(str(x) + \" Found new best! \" + str(n))\n",
    "        # Update the best solution length\n",
    "        best = n\n",
    "\n",
    "# Measure the length of the final best solution\n",
    "length = tsp.measure(solution)\n",
    "\n",
    "# Print the length of the best solution found\n",
    "print(\"My route is \" + str(length))"
   ]
  },
  {
   "cell_type": "markdown",
   "id": "43592705",
   "metadata": {},
   "source": [
    "Once you have run the hill climber think about how you could improve the quality of the solutions:\n",
    "* Increase the number of `tries`\n",
    "* The above example uses the function `tsp.random_change_1()` to modify the solution, there are 5 functions that can be used here (`tsp.random_change1()` to `tsp.random_change_5()`) which make different types of random change\n",
    "\n",
    "Now try to find the lowest length of route possible, you will need to adjust the number of tries (hint: `tries` should be > 100) and test each of the random change functions."
   ]
  },
  {
   "cell_type": "code",
   "execution_count": null,
   "id": "95196ff6",
   "metadata": {},
   "outputs": [],
   "source": [
    "tsp.draw_map(solution)"
   ]
  },
  {
   "cell_type": "markdown",
   "metadata": {},
   "source": [
    "Workshop given by [Stewart Anderson](mailto:stewart.anderson@abdn.ac.uk) at the University of Aberdeen on 18 December 2023.\n",
    "\n",
    "Workshop created by [Dr Neil Urquhart](mailto:n.urquhart@napier.ac.uk) from Edinburgh Napier University."
   ]
  }
 ],
 "metadata": {
  "kernelspec": {
   "display_name": "Python 3 (ipykernel)",
   "language": "python",
   "name": "python3"
  },
  "language_info": {
   "codemirror_mode": {
    "name": "ipython",
    "version": 3
   },
   "file_extension": ".py",
   "mimetype": "text/x-python",
   "name": "python",
   "nbconvert_exporter": "python",
   "pygments_lexer": "ipython3",
   "version": "3.11.5"
  }
 },
 "nbformat": 4,
 "nbformat_minor": 5
}
